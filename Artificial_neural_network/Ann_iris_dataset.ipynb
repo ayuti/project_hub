{
  "nbformat": 4,
  "nbformat_minor": 0,
  "metadata": {
    "colab": {
      "name": "Ann -iris dataset.ipynb",
      "provenance": [],
      "collapsed_sections": []
    },
    "kernelspec": {
      "display_name": "Python 3",
      "name": "python3"
    },
    "language_info": {
      "name": "python"
    }
  },
  "cells": [
    {
      "cell_type": "markdown",
      "metadata": {
        "id": "Da4XNRR3O-U1"
      },
      "source": [
        "Name :Ayuti Shivdavkar <br>\n",
        "Dataset :Iris Dataset"
      ]
    },
    {
      "cell_type": "code",
      "metadata": {
        "colab": {
          "resources": {
            "http://localhost:8080/nbextensions/google.colab/files.js": {
              "data": "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",
              "ok": true,
              "headers": [
                [
                  "content-type",
                  "application/javascript"
                ]
              ],
              "status": 200,
              "status_text": ""
            }
          },
          "base_uri": "https://localhost:8080/",
          "height": 89
        },
        "id": "vz-jH8T_Uk2c",
        "outputId": "0060f3a3-ac50-4af4-f7b7-bcad37c1495b"
      },
      "source": [
        "from google.colab import files\n",
        "\n",
        "uploaded = files.upload()\n",
        "\n",
        "for fn in uploaded.keys():\n",
        "  print('User uploaded file \"{name}\" with length {length} bytes'.format(\n",
        "      name=fn, length=len(uploaded[fn])))"
      ],
      "execution_count": 147,
      "outputs": [
        {
          "output_type": "display_data",
          "data": {
            "text/html": [
              "\n",
              "     <input type=\"file\" id=\"files-9db57427-5c4e-42ae-b7e0-401aa415810f\" name=\"files[]\" multiple disabled\n",
              "        style=\"border:none\" />\n",
              "     <output id=\"result-9db57427-5c4e-42ae-b7e0-401aa415810f\">\n",
              "      Upload widget is only available when the cell has been executed in the\n",
              "      current browser session. Please rerun this cell to enable.\n",
              "      </output>\n",
              "      <script src=\"/nbextensions/google.colab/files.js\"></script> "
            ],
            "text/plain": [
              "<IPython.core.display.HTML object>"
            ]
          },
          "metadata": {
            "tags": []
          }
        },
        {
          "output_type": "stream",
          "text": [
            "Saving iris.data to iris (5).data\n",
            "User uploaded file \"iris.data\" with length 4551 bytes\n"
          ],
          "name": "stdout"
        }
      ]
    },
    {
      "cell_type": "code",
      "metadata": {
        "colab": {
          "base_uri": "https://localhost:8080/",
          "height": 824
        },
        "id": "Ftql37TidxSc",
        "outputId": "12022abb-b97d-48df-9d6a-d9244a518459"
      },
      "source": [
        "import pandas as pd\n",
        "import io\n",
        "data=pd.read_csv(io.StringIO(uploaded['iris.data'].decode('utf-8')))\n",
        "data.head(25)"
      ],
      "execution_count": 148,
      "outputs": [
        {
          "output_type": "execute_result",
          "data": {
            "text/html": [
              "<div>\n",
              "<style scoped>\n",
              "    .dataframe tbody tr th:only-of-type {\n",
              "        vertical-align: middle;\n",
              "    }\n",
              "\n",
              "    .dataframe tbody tr th {\n",
              "        vertical-align: top;\n",
              "    }\n",
              "\n",
              "    .dataframe thead th {\n",
              "        text-align: right;\n",
              "    }\n",
              "</style>\n",
              "<table border=\"1\" class=\"dataframe\">\n",
              "  <thead>\n",
              "    <tr style=\"text-align: right;\">\n",
              "      <th></th>\n",
              "      <th>5.1</th>\n",
              "      <th>3.5</th>\n",
              "      <th>1.4</th>\n",
              "      <th>0.2</th>\n",
              "      <th>Iris-setosa</th>\n",
              "    </tr>\n",
              "  </thead>\n",
              "  <tbody>\n",
              "    <tr>\n",
              "      <th>0</th>\n",
              "      <td>4.9</td>\n",
              "      <td>3.0</td>\n",
              "      <td>1.4</td>\n",
              "      <td>0.2</td>\n",
              "      <td>Iris-setosa</td>\n",
              "    </tr>\n",
              "    <tr>\n",
              "      <th>1</th>\n",
              "      <td>4.7</td>\n",
              "      <td>3.2</td>\n",
              "      <td>1.3</td>\n",
              "      <td>0.2</td>\n",
              "      <td>Iris-setosa</td>\n",
              "    </tr>\n",
              "    <tr>\n",
              "      <th>2</th>\n",
              "      <td>4.6</td>\n",
              "      <td>3.1</td>\n",
              "      <td>1.5</td>\n",
              "      <td>0.2</td>\n",
              "      <td>Iris-setosa</td>\n",
              "    </tr>\n",
              "    <tr>\n",
              "      <th>3</th>\n",
              "      <td>5.0</td>\n",
              "      <td>3.6</td>\n",
              "      <td>1.4</td>\n",
              "      <td>0.2</td>\n",
              "      <td>Iris-setosa</td>\n",
              "    </tr>\n",
              "    <tr>\n",
              "      <th>4</th>\n",
              "      <td>5.4</td>\n",
              "      <td>3.9</td>\n",
              "      <td>1.7</td>\n",
              "      <td>0.4</td>\n",
              "      <td>Iris-setosa</td>\n",
              "    </tr>\n",
              "    <tr>\n",
              "      <th>5</th>\n",
              "      <td>4.6</td>\n",
              "      <td>3.4</td>\n",
              "      <td>1.4</td>\n",
              "      <td>0.3</td>\n",
              "      <td>Iris-setosa</td>\n",
              "    </tr>\n",
              "    <tr>\n",
              "      <th>6</th>\n",
              "      <td>5.0</td>\n",
              "      <td>3.4</td>\n",
              "      <td>1.5</td>\n",
              "      <td>0.2</td>\n",
              "      <td>Iris-setosa</td>\n",
              "    </tr>\n",
              "    <tr>\n",
              "      <th>7</th>\n",
              "      <td>4.4</td>\n",
              "      <td>2.9</td>\n",
              "      <td>1.4</td>\n",
              "      <td>0.2</td>\n",
              "      <td>Iris-setosa</td>\n",
              "    </tr>\n",
              "    <tr>\n",
              "      <th>8</th>\n",
              "      <td>4.9</td>\n",
              "      <td>3.1</td>\n",
              "      <td>1.5</td>\n",
              "      <td>0.1</td>\n",
              "      <td>Iris-setosa</td>\n",
              "    </tr>\n",
              "    <tr>\n",
              "      <th>9</th>\n",
              "      <td>5.4</td>\n",
              "      <td>3.7</td>\n",
              "      <td>1.5</td>\n",
              "      <td>0.2</td>\n",
              "      <td>Iris-setosa</td>\n",
              "    </tr>\n",
              "    <tr>\n",
              "      <th>10</th>\n",
              "      <td>4.8</td>\n",
              "      <td>3.4</td>\n",
              "      <td>1.6</td>\n",
              "      <td>0.2</td>\n",
              "      <td>Iris-setosa</td>\n",
              "    </tr>\n",
              "    <tr>\n",
              "      <th>11</th>\n",
              "      <td>4.8</td>\n",
              "      <td>3.0</td>\n",
              "      <td>1.4</td>\n",
              "      <td>0.1</td>\n",
              "      <td>Iris-setosa</td>\n",
              "    </tr>\n",
              "    <tr>\n",
              "      <th>12</th>\n",
              "      <td>4.3</td>\n",
              "      <td>3.0</td>\n",
              "      <td>1.1</td>\n",
              "      <td>0.1</td>\n",
              "      <td>Iris-setosa</td>\n",
              "    </tr>\n",
              "    <tr>\n",
              "      <th>13</th>\n",
              "      <td>5.8</td>\n",
              "      <td>4.0</td>\n",
              "      <td>1.2</td>\n",
              "      <td>0.2</td>\n",
              "      <td>Iris-setosa</td>\n",
              "    </tr>\n",
              "    <tr>\n",
              "      <th>14</th>\n",
              "      <td>5.7</td>\n",
              "      <td>4.4</td>\n",
              "      <td>1.5</td>\n",
              "      <td>0.4</td>\n",
              "      <td>Iris-setosa</td>\n",
              "    </tr>\n",
              "    <tr>\n",
              "      <th>15</th>\n",
              "      <td>5.4</td>\n",
              "      <td>3.9</td>\n",
              "      <td>1.3</td>\n",
              "      <td>0.4</td>\n",
              "      <td>Iris-setosa</td>\n",
              "    </tr>\n",
              "    <tr>\n",
              "      <th>16</th>\n",
              "      <td>5.1</td>\n",
              "      <td>3.5</td>\n",
              "      <td>1.4</td>\n",
              "      <td>0.3</td>\n",
              "      <td>Iris-setosa</td>\n",
              "    </tr>\n",
              "    <tr>\n",
              "      <th>17</th>\n",
              "      <td>5.7</td>\n",
              "      <td>3.8</td>\n",
              "      <td>1.7</td>\n",
              "      <td>0.3</td>\n",
              "      <td>Iris-setosa</td>\n",
              "    </tr>\n",
              "    <tr>\n",
              "      <th>18</th>\n",
              "      <td>5.1</td>\n",
              "      <td>3.8</td>\n",
              "      <td>1.5</td>\n",
              "      <td>0.3</td>\n",
              "      <td>Iris-setosa</td>\n",
              "    </tr>\n",
              "    <tr>\n",
              "      <th>19</th>\n",
              "      <td>5.4</td>\n",
              "      <td>3.4</td>\n",
              "      <td>1.7</td>\n",
              "      <td>0.2</td>\n",
              "      <td>Iris-setosa</td>\n",
              "    </tr>\n",
              "    <tr>\n",
              "      <th>20</th>\n",
              "      <td>5.1</td>\n",
              "      <td>3.7</td>\n",
              "      <td>1.5</td>\n",
              "      <td>0.4</td>\n",
              "      <td>Iris-setosa</td>\n",
              "    </tr>\n",
              "    <tr>\n",
              "      <th>21</th>\n",
              "      <td>4.6</td>\n",
              "      <td>3.6</td>\n",
              "      <td>1.0</td>\n",
              "      <td>0.2</td>\n",
              "      <td>Iris-setosa</td>\n",
              "    </tr>\n",
              "    <tr>\n",
              "      <th>22</th>\n",
              "      <td>5.1</td>\n",
              "      <td>3.3</td>\n",
              "      <td>1.7</td>\n",
              "      <td>0.5</td>\n",
              "      <td>Iris-setosa</td>\n",
              "    </tr>\n",
              "    <tr>\n",
              "      <th>23</th>\n",
              "      <td>4.8</td>\n",
              "      <td>3.4</td>\n",
              "      <td>1.9</td>\n",
              "      <td>0.2</td>\n",
              "      <td>Iris-setosa</td>\n",
              "    </tr>\n",
              "    <tr>\n",
              "      <th>24</th>\n",
              "      <td>5.0</td>\n",
              "      <td>3.0</td>\n",
              "      <td>1.6</td>\n",
              "      <td>0.2</td>\n",
              "      <td>Iris-setosa</td>\n",
              "    </tr>\n",
              "  </tbody>\n",
              "</table>\n",
              "</div>"
            ],
            "text/plain": [
              "    5.1  3.5  1.4  0.2  Iris-setosa\n",
              "0   4.9  3.0  1.4  0.2  Iris-setosa\n",
              "1   4.7  3.2  1.3  0.2  Iris-setosa\n",
              "2   4.6  3.1  1.5  0.2  Iris-setosa\n",
              "3   5.0  3.6  1.4  0.2  Iris-setosa\n",
              "4   5.4  3.9  1.7  0.4  Iris-setosa\n",
              "5   4.6  3.4  1.4  0.3  Iris-setosa\n",
              "6   5.0  3.4  1.5  0.2  Iris-setosa\n",
              "7   4.4  2.9  1.4  0.2  Iris-setosa\n",
              "8   4.9  3.1  1.5  0.1  Iris-setosa\n",
              "9   5.4  3.7  1.5  0.2  Iris-setosa\n",
              "10  4.8  3.4  1.6  0.2  Iris-setosa\n",
              "11  4.8  3.0  1.4  0.1  Iris-setosa\n",
              "12  4.3  3.0  1.1  0.1  Iris-setosa\n",
              "13  5.8  4.0  1.2  0.2  Iris-setosa\n",
              "14  5.7  4.4  1.5  0.4  Iris-setosa\n",
              "15  5.4  3.9  1.3  0.4  Iris-setosa\n",
              "16  5.1  3.5  1.4  0.3  Iris-setosa\n",
              "17  5.7  3.8  1.7  0.3  Iris-setosa\n",
              "18  5.1  3.8  1.5  0.3  Iris-setosa\n",
              "19  5.4  3.4  1.7  0.2  Iris-setosa\n",
              "20  5.1  3.7  1.5  0.4  Iris-setosa\n",
              "21  4.6  3.6  1.0  0.2  Iris-setosa\n",
              "22  5.1  3.3  1.7  0.5  Iris-setosa\n",
              "23  4.8  3.4  1.9  0.2  Iris-setosa\n",
              "24  5.0  3.0  1.6  0.2  Iris-setosa"
            ]
          },
          "metadata": {
            "tags": []
          },
          "execution_count": 148
        }
      ]
    },
    {
      "cell_type": "code",
      "metadata": {
        "id": "bFJUkUxod6ZP"
      },
      "source": [
        "import seaborn as sns\n",
        "from matplotlib import pyplot as plt\n",
        "import pandas as pd\n",
        "import numpy as np\n",
        "import keras\n",
        "from keras.models import Sequential\n",
        "from keras.layers import Dense\n",
        "from keras.optimizers import Adam\n",
        "\n",
        "from IPython.display import SVG\n",
        "from keras.utils.vis_utils import model_to_dot\n",
        "from keras.utils import plot_model\n",
        "\n",
        "\n"
      ],
      "execution_count": 149,
      "outputs": []
    },
    {
      "cell_type": "code",
      "metadata": {
        "colab": {
          "base_uri": "https://localhost:8080/",
          "height": 419
        },
        "id": "JiqTxc5OjyNi",
        "outputId": "be07ac66-f9de-4e5d-88a4-eb0c79c855e3"
      },
      "source": [
        "dataset = pd.read_csv(\"iris.data\")\n",
        "dataset"
      ],
      "execution_count": 150,
      "outputs": [
        {
          "output_type": "execute_result",
          "data": {
            "text/html": [
              "<div>\n",
              "<style scoped>\n",
              "    .dataframe tbody tr th:only-of-type {\n",
              "        vertical-align: middle;\n",
              "    }\n",
              "\n",
              "    .dataframe tbody tr th {\n",
              "        vertical-align: top;\n",
              "    }\n",
              "\n",
              "    .dataframe thead th {\n",
              "        text-align: right;\n",
              "    }\n",
              "</style>\n",
              "<table border=\"1\" class=\"dataframe\">\n",
              "  <thead>\n",
              "    <tr style=\"text-align: right;\">\n",
              "      <th></th>\n",
              "      <th>5.1</th>\n",
              "      <th>3.5</th>\n",
              "      <th>1.4</th>\n",
              "      <th>0.2</th>\n",
              "      <th>Iris-setosa</th>\n",
              "    </tr>\n",
              "  </thead>\n",
              "  <tbody>\n",
              "    <tr>\n",
              "      <th>0</th>\n",
              "      <td>4.9</td>\n",
              "      <td>3.0</td>\n",
              "      <td>1.4</td>\n",
              "      <td>0.2</td>\n",
              "      <td>Iris-setosa</td>\n",
              "    </tr>\n",
              "    <tr>\n",
              "      <th>1</th>\n",
              "      <td>4.7</td>\n",
              "      <td>3.2</td>\n",
              "      <td>1.3</td>\n",
              "      <td>0.2</td>\n",
              "      <td>Iris-setosa</td>\n",
              "    </tr>\n",
              "    <tr>\n",
              "      <th>2</th>\n",
              "      <td>4.6</td>\n",
              "      <td>3.1</td>\n",
              "      <td>1.5</td>\n",
              "      <td>0.2</td>\n",
              "      <td>Iris-setosa</td>\n",
              "    </tr>\n",
              "    <tr>\n",
              "      <th>3</th>\n",
              "      <td>5.0</td>\n",
              "      <td>3.6</td>\n",
              "      <td>1.4</td>\n",
              "      <td>0.2</td>\n",
              "      <td>Iris-setosa</td>\n",
              "    </tr>\n",
              "    <tr>\n",
              "      <th>4</th>\n",
              "      <td>5.4</td>\n",
              "      <td>3.9</td>\n",
              "      <td>1.7</td>\n",
              "      <td>0.4</td>\n",
              "      <td>Iris-setosa</td>\n",
              "    </tr>\n",
              "    <tr>\n",
              "      <th>...</th>\n",
              "      <td>...</td>\n",
              "      <td>...</td>\n",
              "      <td>...</td>\n",
              "      <td>...</td>\n",
              "      <td>...</td>\n",
              "    </tr>\n",
              "    <tr>\n",
              "      <th>144</th>\n",
              "      <td>6.7</td>\n",
              "      <td>3.0</td>\n",
              "      <td>5.2</td>\n",
              "      <td>2.3</td>\n",
              "      <td>Iris-virginica</td>\n",
              "    </tr>\n",
              "    <tr>\n",
              "      <th>145</th>\n",
              "      <td>6.3</td>\n",
              "      <td>2.5</td>\n",
              "      <td>5.0</td>\n",
              "      <td>1.9</td>\n",
              "      <td>Iris-virginica</td>\n",
              "    </tr>\n",
              "    <tr>\n",
              "      <th>146</th>\n",
              "      <td>6.5</td>\n",
              "      <td>3.0</td>\n",
              "      <td>5.2</td>\n",
              "      <td>2.0</td>\n",
              "      <td>Iris-virginica</td>\n",
              "    </tr>\n",
              "    <tr>\n",
              "      <th>147</th>\n",
              "      <td>6.2</td>\n",
              "      <td>3.4</td>\n",
              "      <td>5.4</td>\n",
              "      <td>2.3</td>\n",
              "      <td>Iris-virginica</td>\n",
              "    </tr>\n",
              "    <tr>\n",
              "      <th>148</th>\n",
              "      <td>5.9</td>\n",
              "      <td>3.0</td>\n",
              "      <td>5.1</td>\n",
              "      <td>1.8</td>\n",
              "      <td>Iris-virginica</td>\n",
              "    </tr>\n",
              "  </tbody>\n",
              "</table>\n",
              "<p>149 rows × 5 columns</p>\n",
              "</div>"
            ],
            "text/plain": [
              "     5.1  3.5  1.4  0.2     Iris-setosa\n",
              "0    4.9  3.0  1.4  0.2     Iris-setosa\n",
              "1    4.7  3.2  1.3  0.2     Iris-setosa\n",
              "2    4.6  3.1  1.5  0.2     Iris-setosa\n",
              "3    5.0  3.6  1.4  0.2     Iris-setosa\n",
              "4    5.4  3.9  1.7  0.4     Iris-setosa\n",
              "..   ...  ...  ...  ...             ...\n",
              "144  6.7  3.0  5.2  2.3  Iris-virginica\n",
              "145  6.3  2.5  5.0  1.9  Iris-virginica\n",
              "146  6.5  3.0  5.2  2.0  Iris-virginica\n",
              "147  6.2  3.4  5.4  2.3  Iris-virginica\n",
              "148  5.9  3.0  5.1  1.8  Iris-virginica\n",
              "\n",
              "[149 rows x 5 columns]"
            ]
          },
          "metadata": {
            "tags": []
          },
          "execution_count": 150
        }
      ]
    },
    {
      "cell_type": "code",
      "metadata": {
        "colab": {
          "base_uri": "https://localhost:8080/"
        },
        "id": "doyldAE-GgfI",
        "outputId": "8e938c89-d1af-4180-872d-eae6b827c0e2"
      },
      "source": [
        "dataset.shape"
      ],
      "execution_count": 151,
      "outputs": [
        {
          "output_type": "execute_result",
          "data": {
            "text/plain": [
              "(149, 5)"
            ]
          },
          "metadata": {
            "tags": []
          },
          "execution_count": 151
        }
      ]
    },
    {
      "cell_type": "code",
      "metadata": {
        "colab": {
          "base_uri": "https://localhost:8080/",
          "height": 384
        },
        "id": "HO83IfWtFNCQ",
        "outputId": "4445d4c2-6449-4763-9243-d4501ecf2508"
      },
      "source": [
        "\n",
        "ax = sns.countplot(dataset['Iris-setosa'], label= 'Count')\n",
        "A,B,C = dataset['Iris-setosa'].value_counts()\n",
        "print('Iris-setosa', A)\n",
        "print('Iris-versicolor', B)\n",
        "print('Iris-virginica', C)\n"
      ],
      "execution_count": 152,
      "outputs": [
        {
          "output_type": "stream",
          "text": [
            "Iris-setosa 50\n",
            "Iris-versicolor 50\n",
            "Iris-virginica 49\n"
          ],
          "name": "stdout"
        },
        {
          "output_type": "stream",
          "text": [
            "/usr/local/lib/python3.7/dist-packages/seaborn/_decorators.py:43: FutureWarning: Pass the following variable as a keyword arg: x. From version 0.12, the only valid positional argument will be `data`, and passing other arguments without an explicit keyword will result in an error or misinterpretation.\n",
            "  FutureWarning\n"
          ],
          "name": "stderr"
        },
        {
          "output_type": "display_data",
          "data": {
            "image/png": "[encoded data removed]",
            "text/plain": [
              "<Figure size 432x288 with 1 Axes>"
            ]
          },
          "metadata": {
            "tags": [],
            "needs_background": "light"
          }
        }
      ]
    },
    {
      "cell_type": "code",
      "metadata": {
        "id": "WnvqZRW_kBMp"
      },
      "source": [
        "X = dataset.iloc[:,0:4].values\n",
        "y = dataset.iloc[:,4].values\n"
      ],
      "execution_count": 153,
      "outputs": []
    },
    {
      "cell_type": "code",
      "metadata": {
        "id": "hQRrNc8mkE7b"
      },
      "source": [
        "from sklearn.preprocessing import LabelEncoder\n",
        "encoder =  LabelEncoder()\n",
        "y1 = encoder.fit_transform(y)\n",
        "Y = pd.get_dummies(y1).values\n",
        "\n"
      ],
      "execution_count": 154,
      "outputs": []
    },
    {
      "cell_type": "code",
      "metadata": {
        "colab": {
          "base_uri": "https://localhost:8080/"
        },
        "id": "am2AaJDrkGKs",
        "outputId": "89ef0e00-7380-4280-f6b4-ad88030ec85f"
      },
      "source": [
        "y1"
      ],
      "execution_count": 155,
      "outputs": [
        {
          "output_type": "execute_result",
          "data": {
            "text/plain": [
              "array([0, 0, 0, 0, 0, 0, 0, 0, 0, 0, 0, 0, 0, 0, 0, 0, 0, 0, 0, 0, 0, 0,\n",
              "       0, 0, 0, 0, 0, 0, 0, 0, 0, 0, 0, 0, 0, 0, 0, 0, 0, 0, 0, 0, 0, 0,\n",
              "       0, 0, 0, 0, 0, 1, 1, 1, 1, 1, 1, 1, 1, 1, 1, 1, 1, 1, 1, 1, 1, 1,\n",
              "       1, 1, 1, 1, 1, 1, 1, 1, 1, 1, 1, 1, 1, 1, 1, 1, 1, 1, 1, 1, 1, 1,\n",
              "       1, 1, 1, 1, 1, 1, 1, 1, 1, 1, 1, 2, 2, 2, 2, 2, 2, 2, 2, 2, 2, 2,\n",
              "       2, 2, 2, 2, 2, 2, 2, 2, 2, 2, 2, 2, 2, 2, 2, 2, 2, 2, 2, 2, 2, 2,\n",
              "       2, 2, 2, 2, 2, 2, 2, 2, 2, 2, 2, 2, 2, 2, 2, 2, 2])"
            ]
          },
          "metadata": {
            "tags": []
          },
          "execution_count": 155
        }
      ]
    },
    {
      "cell_type": "code",
      "metadata": {
        "id": "fLNOdQ8Xk4Sj"
      },
      "source": [
        "from sklearn.model_selection import train_test_split\n",
        "X_train,X_test, y_train,y_test = train_test_split(X,Y,test_size=0.2,random_state=0)"
      ],
      "execution_count": 156,
      "outputs": []
    },
    {
      "cell_type": "code",
      "metadata": {
        "id": "SAgNc5YulT3Y"
      },
      "source": [
        "model = Sequential()\n",
        "\n",
        "model.add(Dense(4,input_shape=(4,), activation='relu'))\n",
        "\n",
        "model.add(Dense(3, activation='softmax'))\n"
      ],
      "execution_count": 157,
      "outputs": []
    },
    {
      "cell_type": "code",
      "metadata": {
        "id": "XyXvAScilfEy"
      },
      "source": [
        "model.compile(optimizer=\"Adam\", loss='categorical_crossentropy', metrics=['accuracy'])"
      ],
      "execution_count": 158,
      "outputs": []
    },
    {
      "cell_type": "code",
      "metadata": {
        "colab": {
          "base_uri": "https://localhost:8080/"
        },
        "id": "fWNeSuUsl_6S",
        "outputId": "15579cc6-77ec-49e7-e32f-51a98a1a0e3d"
      },
      "source": [
        "\n",
        "hist=model.fit(X_train, y_train, batch_size=10, epochs=150)\n",
        "\n"
      ],
      "execution_count": 159,
      "outputs": [
        {
          "output_type": "stream",
          "text": [
            "Epoch 1/150\n",
            "12/12 [==============================] - 0s 1ms/step - loss: 1.0863 - accuracy: 0.3320\n",
            "Epoch 2/150\n",
            "12/12 [==============================] - 0s 2ms/step - loss: 1.0675 - accuracy: 0.3569\n",
            "Epoch 3/150\n",
            "12/12 [==============================] - 0s 2ms/step - loss: 1.0451 - accuracy: 0.2978\n",
            "Epoch 4/150\n",
            "12/12 [==============================] - 0s 2ms/step - loss: 1.0541 - accuracy: 0.3571\n",
            "Epoch 5/150\n",
            "12/12 [==============================] - 0s 1ms/step - loss: 1.0648 - accuracy: 0.3070\n",
            "Epoch 6/150\n",
            "12/12 [==============================] - 0s 1ms/step - loss: 1.0429 - accuracy: 0.3214\n",
            "Epoch 7/150\n",
            "12/12 [==============================] - 0s 1ms/step - loss: 1.0243 - accuracy: 0.3745\n",
            "Epoch 8/150\n",
            "12/12 [==============================] - 0s 1ms/step - loss: 1.0313 - accuracy: 0.3358\n",
            "Epoch 9/150\n",
            "12/12 [==============================] - 0s 1ms/step - loss: 1.0432 - accuracy: 0.3368\n",
            "Epoch 10/150\n",
            "12/12 [==============================] - 0s 1ms/step - loss: 1.0245 - accuracy: 0.3756\n",
            "Epoch 11/150\n",
            "12/12 [==============================] - 0s 1ms/step - loss: 1.0149 - accuracy: 0.3894\n",
            "Epoch 12/150\n",
            "12/12 [==============================] - 0s 1ms/step - loss: 1.0333 - accuracy: 0.3445\n",
            "Epoch 13/150\n",
            "12/12 [==============================] - 0s 2ms/step - loss: 1.0282 - accuracy: 0.3030\n",
            "Epoch 14/150\n",
            "12/12 [==============================] - 0s 2ms/step - loss: 1.0391 - accuracy: 0.2538\n",
            "Epoch 15/150\n",
            "12/12 [==============================] - 0s 2ms/step - loss: 1.0028 - accuracy: 0.3783\n",
            "Epoch 16/150\n",
            "12/12 [==============================] - 0s 2ms/step - loss: 0.9973 - accuracy: 0.3614\n",
            "Epoch 17/150\n",
            "12/12 [==============================] - 0s 2ms/step - loss: 1.0052 - accuracy: 0.3607\n",
            "Epoch 18/150\n",
            "12/12 [==============================] - 0s 2ms/step - loss: 0.9861 - accuracy: 0.3764\n",
            "Epoch 19/150\n",
            "12/12 [==============================] - 0s 2ms/step - loss: 0.9799 - accuracy: 0.3794\n",
            "Epoch 20/150\n",
            "12/12 [==============================] - 0s 2ms/step - loss: 0.9536 - accuracy: 0.3968\n",
            "Epoch 21/150\n",
            "12/12 [==============================] - 0s 2ms/step - loss: 1.0217 - accuracy: 0.2822\n",
            "Epoch 22/150\n",
            "12/12 [==============================] - 0s 2ms/step - loss: 0.9791 - accuracy: 0.3745\n",
            "Epoch 23/150\n",
            "12/12 [==============================] - 0s 1ms/step - loss: 0.9717 - accuracy: 0.3356\n",
            "Epoch 24/150\n",
            "12/12 [==============================] - 0s 2ms/step - loss: 0.9505 - accuracy: 0.4002\n",
            "Epoch 25/150\n",
            "12/12 [==============================] - 0s 2ms/step - loss: 0.9769 - accuracy: 0.3341\n",
            "Epoch 26/150\n",
            "12/12 [==============================] - 0s 1ms/step - loss: 0.9518 - accuracy: 0.3784\n",
            "Epoch 27/150\n",
            "12/12 [==============================] - 0s 1ms/step - loss: 0.9963 - accuracy: 0.2708\n",
            "Epoch 28/150\n",
            "12/12 [==============================] - 0s 1ms/step - loss: 0.9578 - accuracy: 0.3706\n",
            "Epoch 29/150\n",
            "12/12 [==============================] - 0s 2ms/step - loss: 0.9679 - accuracy: 0.3384\n",
            "Epoch 30/150\n",
            "12/12 [==============================] - 0s 3ms/step - loss: 0.9642 - accuracy: 0.3254\n",
            "Epoch 31/150\n",
            "12/12 [==============================] - 0s 2ms/step - loss: 0.9380 - accuracy: 0.3765\n",
            "Epoch 32/150\n",
            "12/12 [==============================] - 0s 2ms/step - loss: 0.9322 - accuracy: 0.3566\n",
            "Epoch 33/150\n",
            "12/12 [==============================] - 0s 2ms/step - loss: 0.9314 - accuracy: 0.3536\n",
            "Epoch 34/150\n",
            "12/12 [==============================] - 0s 2ms/step - loss: 0.9159 - accuracy: 0.4026\n",
            "Epoch 35/150\n",
            "12/12 [==============================] - 0s 2ms/step - loss: 0.8949 - accuracy: 0.4252\n",
            "Epoch 36/150\n",
            "12/12 [==============================] - 0s 2ms/step - loss: 0.9002 - accuracy: 0.4370\n",
            "Epoch 37/150\n",
            "12/12 [==============================] - 0s 2ms/step - loss: 0.9046 - accuracy: 0.4397\n",
            "Epoch 38/150\n",
            "12/12 [==============================] - 0s 2ms/step - loss: 0.9025 - accuracy: 0.4587\n",
            "Epoch 39/150\n",
            "12/12 [==============================] - 0s 1ms/step - loss: 0.8750 - accuracy: 0.6564\n",
            "Epoch 40/150\n",
            "12/12 [==============================] - 0s 1ms/step - loss: 0.8851 - accuracy: 0.5219\n",
            "Epoch 41/150\n",
            "12/12 [==============================] - 0s 1ms/step - loss: 0.8980 - accuracy: 0.5935\n",
            "Epoch 42/150\n",
            "12/12 [==============================] - 0s 2ms/step - loss: 0.8793 - accuracy: 0.5874\n",
            "Epoch 43/150\n",
            "12/12 [==============================] - 0s 1ms/step - loss: 0.8507 - accuracy: 0.6691\n",
            "Epoch 44/150\n",
            "12/12 [==============================] - 0s 1ms/step - loss: 0.8791 - accuracy: 0.6134\n",
            "Epoch 45/150\n",
            "12/12 [==============================] - 0s 2ms/step - loss: 0.8521 - accuracy: 0.6544\n",
            "Epoch 46/150\n",
            "12/12 [==============================] - 0s 2ms/step - loss: 0.8674 - accuracy: 0.6286\n",
            "Epoch 47/150\n",
            "12/12 [==============================] - 0s 2ms/step - loss: 0.8226 - accuracy: 0.7127\n",
            "Epoch 48/150\n",
            "12/12 [==============================] - 0s 2ms/step - loss: 0.8124 - accuracy: 0.7374\n",
            "Epoch 49/150\n",
            "12/12 [==============================] - 0s 2ms/step - loss: 0.8337 - accuracy: 0.5906\n",
            "Epoch 50/150\n",
            "12/12 [==============================] - 0s 2ms/step - loss: 0.8243 - accuracy: 0.6798\n",
            "Epoch 51/150\n",
            "12/12 [==============================] - 0s 2ms/step - loss: 0.7920 - accuracy: 0.6496\n",
            "Epoch 52/150\n",
            "12/12 [==============================] - 0s 1ms/step - loss: 0.8090 - accuracy: 0.6356\n",
            "Epoch 53/150\n",
            "12/12 [==============================] - 0s 2ms/step - loss: 0.7744 - accuracy: 0.6908\n",
            "Epoch 54/150\n",
            "12/12 [==============================] - 0s 2ms/step - loss: 0.7601 - accuracy: 0.7100\n",
            "Epoch 55/150\n",
            "12/12 [==============================] - 0s 2ms/step - loss: 0.7789 - accuracy: 0.6436\n",
            "Epoch 56/150\n",
            "12/12 [==============================] - 0s 2ms/step - loss: 0.7520 - accuracy: 0.6838\n",
            "Epoch 57/150\n",
            "12/12 [==============================] - 0s 2ms/step - loss: 0.7601 - accuracy: 0.6659\n",
            "Epoch 58/150\n",
            "12/12 [==============================] - 0s 2ms/step - loss: 0.7449 - accuracy: 0.6549\n",
            "Epoch 59/150\n",
            "12/12 [==============================] - 0s 3ms/step - loss: 0.7703 - accuracy: 0.6030\n",
            "Epoch 60/150\n",
            "12/12 [==============================] - 0s 2ms/step - loss: 0.7357 - accuracy: 0.6477\n",
            "Epoch 61/150\n",
            "12/12 [==============================] - 0s 2ms/step - loss: 0.7230 - accuracy: 0.6424\n",
            "Epoch 62/150\n",
            "12/12 [==============================] - 0s 1ms/step - loss: 0.7300 - accuracy: 0.6359\n",
            "Epoch 63/150\n",
            "12/12 [==============================] - 0s 1ms/step - loss: 0.7072 - accuracy: 0.6713\n",
            "Epoch 64/150\n",
            "12/12 [==============================] - 0s 2ms/step - loss: 0.7126 - accuracy: 0.6894\n",
            "Epoch 65/150\n",
            "12/12 [==============================] - 0s 1ms/step - loss: 0.7238 - accuracy: 0.6380\n",
            "Epoch 66/150\n",
            "12/12 [==============================] - 0s 2ms/step - loss: 0.6926 - accuracy: 0.6994\n",
            "Epoch 67/150\n",
            "12/12 [==============================] - 0s 2ms/step - loss: 0.6876 - accuracy: 0.6573\n",
            "Epoch 68/150\n",
            "12/12 [==============================] - 0s 2ms/step - loss: 0.6741 - accuracy: 0.6977\n",
            "Epoch 69/150\n",
            "12/12 [==============================] - 0s 1ms/step - loss: 0.6789 - accuracy: 0.7056\n",
            "Epoch 70/150\n",
            "12/12 [==============================] - 0s 1ms/step - loss: 0.6604 - accuracy: 0.7121\n",
            "Epoch 71/150\n",
            "12/12 [==============================] - 0s 2ms/step - loss: 0.7126 - accuracy: 0.5730\n",
            "Epoch 72/150\n",
            "12/12 [==============================] - 0s 1ms/step - loss: 0.6752 - accuracy: 0.6627\n",
            "Epoch 73/150\n",
            "12/12 [==============================] - 0s 2ms/step - loss: 0.6753 - accuracy: 0.6572\n",
            "Epoch 74/150\n",
            "12/12 [==============================] - 0s 2ms/step - loss: 0.6620 - accuracy: 0.6997\n",
            "Epoch 75/150\n",
            "12/12 [==============================] - 0s 2ms/step - loss: 0.6552 - accuracy: 0.7291\n",
            "Epoch 76/150\n",
            "12/12 [==============================] - 0s 1ms/step - loss: 0.6766 - accuracy: 0.6266\n",
            "Epoch 77/150\n",
            "12/12 [==============================] - 0s 1ms/step - loss: 0.6770 - accuracy: 0.6148\n",
            "Epoch 78/150\n",
            "12/12 [==============================] - 0s 1ms/step - loss: 0.6602 - accuracy: 0.6509\n",
            "Epoch 79/150\n",
            "12/12 [==============================] - 0s 1ms/step - loss: 0.6538 - accuracy: 0.6691\n",
            "Epoch 80/150\n",
            "12/12 [==============================] - 0s 2ms/step - loss: 0.6461 - accuracy: 0.6756\n",
            "Epoch 81/150\n",
            "12/12 [==============================] - 0s 1ms/step - loss: 0.6558 - accuracy: 0.6382\n",
            "Epoch 82/150\n",
            "12/12 [==============================] - 0s 2ms/step - loss: 0.6466 - accuracy: 0.6681\n",
            "Epoch 83/150\n",
            "12/12 [==============================] - 0s 1ms/step - loss: 0.6197 - accuracy: 0.7070\n",
            "Epoch 84/150\n",
            "12/12 [==============================] - 0s 2ms/step - loss: 0.6340 - accuracy: 0.6767\n",
            "Epoch 85/150\n",
            "12/12 [==============================] - 0s 2ms/step - loss: 0.6406 - accuracy: 0.6537\n",
            "Epoch 86/150\n",
            "12/12 [==============================] - 0s 2ms/step - loss: 0.6423 - accuracy: 0.6677\n",
            "Epoch 87/150\n",
            "12/12 [==============================] - 0s 1ms/step - loss: 0.6408 - accuracy: 0.6216\n",
            "Epoch 88/150\n",
            "12/12 [==============================] - 0s 2ms/step - loss: 0.6416 - accuracy: 0.6334\n",
            "Epoch 89/150\n",
            "12/12 [==============================] - 0s 2ms/step - loss: 0.6295 - accuracy: 0.6759\n",
            "Epoch 90/150\n",
            "12/12 [==============================] - 0s 2ms/step - loss: 0.6117 - accuracy: 0.6967\n",
            "Epoch 91/150\n",
            "12/12 [==============================] - 0s 2ms/step - loss: 0.6140 - accuracy: 0.6973\n",
            "Epoch 92/150\n",
            "12/12 [==============================] - 0s 2ms/step - loss: 0.6242 - accuracy: 0.6505\n",
            "Epoch 93/150\n",
            "12/12 [==============================] - 0s 2ms/step - loss: 0.6117 - accuracy: 0.6717\n",
            "Epoch 94/150\n",
            "12/12 [==============================] - 0s 2ms/step - loss: 0.5979 - accuracy: 0.6951\n",
            "Epoch 95/150\n",
            "12/12 [==============================] - 0s 2ms/step - loss: 0.5874 - accuracy: 0.7272\n",
            "Epoch 96/150\n",
            "12/12 [==============================] - 0s 2ms/step - loss: 0.5888 - accuracy: 0.7116\n",
            "Epoch 97/150\n",
            "12/12 [==============================] - 0s 3ms/step - loss: 0.6059 - accuracy: 0.6635\n",
            "Epoch 98/150\n",
            "12/12 [==============================] - 0s 1ms/step - loss: 0.6007 - accuracy: 0.6851\n",
            "Epoch 99/150\n",
            "12/12 [==============================] - 0s 2ms/step - loss: 0.6169 - accuracy: 0.6380\n",
            "Epoch 100/150\n",
            "12/12 [==============================] - 0s 1ms/step - loss: 0.6003 - accuracy: 0.7003\n",
            "Epoch 101/150\n",
            "12/12 [==============================] - 0s 1ms/step - loss: 0.5905 - accuracy: 0.6964\n",
            "Epoch 102/150\n",
            "12/12 [==============================] - 0s 2ms/step - loss: 0.6155 - accuracy: 0.6399\n",
            "Epoch 103/150\n",
            "12/12 [==============================] - 0s 1ms/step - loss: 0.6125 - accuracy: 0.6608\n",
            "Epoch 104/150\n",
            "12/12 [==============================] - 0s 2ms/step - loss: 0.5891 - accuracy: 0.7152\n",
            "Epoch 105/150\n",
            "12/12 [==============================] - 0s 1ms/step - loss: 0.5934 - accuracy: 0.6612\n",
            "Epoch 106/150\n",
            "12/12 [==============================] - 0s 2ms/step - loss: 0.6029 - accuracy: 0.6394\n",
            "Epoch 107/150\n",
            "12/12 [==============================] - 0s 2ms/step - loss: 0.5782 - accuracy: 0.7197\n",
            "Epoch 108/150\n",
            "12/12 [==============================] - 0s 2ms/step - loss: 0.5859 - accuracy: 0.6718\n",
            "Epoch 109/150\n",
            "12/12 [==============================] - 0s 2ms/step - loss: 0.5687 - accuracy: 0.7135\n",
            "Epoch 110/150\n",
            "12/12 [==============================] - 0s 2ms/step - loss: 0.5952 - accuracy: 0.6616\n",
            "Epoch 111/150\n",
            "12/12 [==============================] - 0s 1ms/step - loss: 0.5634 - accuracy: 0.7182\n",
            "Epoch 112/150\n",
            "12/12 [==============================] - 0s 2ms/step - loss: 0.5763 - accuracy: 0.6911\n",
            "Epoch 113/150\n",
            "12/12 [==============================] - 0s 2ms/step - loss: 0.5970 - accuracy: 0.6455\n",
            "Epoch 114/150\n",
            "12/12 [==============================] - 0s 2ms/step - loss: 0.5621 - accuracy: 0.7318\n",
            "Epoch 115/150\n",
            "12/12 [==============================] - 0s 2ms/step - loss: 0.5823 - accuracy: 0.6731\n",
            "Epoch 116/150\n",
            "12/12 [==============================] - 0s 2ms/step - loss: 0.5666 - accuracy: 0.6983\n",
            "Epoch 117/150\n",
            "12/12 [==============================] - 0s 2ms/step - loss: 0.5837 - accuracy: 0.6669\n",
            "Epoch 118/150\n",
            "12/12 [==============================] - 0s 2ms/step - loss: 0.5738 - accuracy: 0.6701\n",
            "Epoch 119/150\n",
            "12/12 [==============================] - 0s 2ms/step - loss: 0.5563 - accuracy: 0.7138\n",
            "Epoch 120/150\n",
            "12/12 [==============================] - 0s 2ms/step - loss: 0.5862 - accuracy: 0.6559\n",
            "Epoch 121/150\n",
            "12/12 [==============================] - 0s 2ms/step - loss: 0.5445 - accuracy: 0.7252\n",
            "Epoch 122/150\n",
            "12/12 [==============================] - 0s 2ms/step - loss: 0.5462 - accuracy: 0.7094\n",
            "Epoch 123/150\n",
            "12/12 [==============================] - 0s 2ms/step - loss: 0.5510 - accuracy: 0.7132\n",
            "Epoch 124/150\n",
            "12/12 [==============================] - 0s 2ms/step - loss: 0.5524 - accuracy: 0.7062\n",
            "Epoch 125/150\n",
            "12/12 [==============================] - 0s 2ms/step - loss: 0.5451 - accuracy: 0.7066\n",
            "Epoch 126/150\n",
            "12/12 [==============================] - 0s 2ms/step - loss: 0.5405 - accuracy: 0.7160\n",
            "Epoch 127/150\n",
            "12/12 [==============================] - 0s 2ms/step - loss: 0.5699 - accuracy: 0.6509\n",
            "Epoch 128/150\n",
            "12/12 [==============================] - 0s 2ms/step - loss: 0.5494 - accuracy: 0.7147\n",
            "Epoch 129/150\n",
            "12/12 [==============================] - 0s 2ms/step - loss: 0.5401 - accuracy: 0.7124\n",
            "Epoch 130/150\n",
            "12/12 [==============================] - 0s 1ms/step - loss: 0.5276 - accuracy: 0.7471\n",
            "Epoch 131/150\n",
            "12/12 [==============================] - 0s 2ms/step - loss: 0.5305 - accuracy: 0.7546\n",
            "Epoch 132/150\n",
            "12/12 [==============================] - 0s 1ms/step - loss: 0.5473 - accuracy: 0.7332\n",
            "Epoch 133/150\n",
            "12/12 [==============================] - 0s 2ms/step - loss: 0.5553 - accuracy: 0.6527\n",
            "Epoch 134/150\n",
            "12/12 [==============================] - 0s 1ms/step - loss: 0.5707 - accuracy: 0.6469\n",
            "Epoch 135/150\n",
            "12/12 [==============================] - 0s 2ms/step - loss: 0.5367 - accuracy: 0.6965\n",
            "Epoch 136/150\n",
            "12/12 [==============================] - 0s 1ms/step - loss: 0.5191 - accuracy: 0.7566\n",
            "Epoch 137/150\n",
            "12/12 [==============================] - 0s 2ms/step - loss: 0.5524 - accuracy: 0.6833\n",
            "Epoch 138/150\n",
            "12/12 [==============================] - 0s 2ms/step - loss: 0.5388 - accuracy: 0.6864\n",
            "Epoch 139/150\n",
            "12/12 [==============================] - 0s 3ms/step - loss: 0.5546 - accuracy: 0.6531\n",
            "Epoch 140/150\n",
            "12/12 [==============================] - 0s 2ms/step - loss: 0.5239 - accuracy: 0.7023\n",
            "Epoch 141/150\n",
            "12/12 [==============================] - 0s 2ms/step - loss: 0.5173 - accuracy: 0.7199\n",
            "Epoch 142/150\n",
            "12/12 [==============================] - 0s 2ms/step - loss: 0.5068 - accuracy: 0.7372\n",
            "Epoch 143/150\n",
            "12/12 [==============================] - 0s 2ms/step - loss: 0.5318 - accuracy: 0.7070\n",
            "Epoch 144/150\n",
            "12/12 [==============================] - 0s 2ms/step - loss: 0.5208 - accuracy: 0.7423\n",
            "Epoch 145/150\n",
            "12/12 [==============================] - 0s 2ms/step - loss: 0.5431 - accuracy: 0.6578\n",
            "Epoch 146/150\n",
            "12/12 [==============================] - 0s 2ms/step - loss: 0.5147 - accuracy: 0.7234\n",
            "Epoch 147/150\n",
            "12/12 [==============================] - 0s 2ms/step - loss: 0.4918 - accuracy: 0.7531\n",
            "Epoch 148/150\n",
            "12/12 [==============================] - 0s 1ms/step - loss: 0.5117 - accuracy: 0.7094\n",
            "Epoch 149/150\n",
            "12/12 [==============================] - 0s 2ms/step - loss: 0.5101 - accuracy: 0.7610\n",
            "Epoch 150/150\n",
            "12/12 [==============================] - 0s 1ms/step - loss: 0.5152 - accuracy: 0.7204\n"
          ],
          "name": "stdout"
        }
      ]
    },
    {
      "cell_type": "code",
      "metadata": {
        "id": "8THAiAQ_mFln",
        "colab": {
          "base_uri": "https://localhost:8080/"
        },
        "outputId": "7896e73d-f0ba-4f88-a222-e9638c5c8b9f"
      },
      "source": [
        "y_pred = model.predict(X_test)\n",
        "y_test_class = np.argmax(y_test,axis=1)\n",
        "y_pred_class = np.argmax(y_pred,axis=1)"
      ],
      "execution_count": 160,
      "outputs": [
        {
          "output_type": "stream",
          "text": [
            "WARNING:tensorflow:6 out of the last 10 calls to <function Model.make_predict_function.<locals>.predict_function at 0x7f8f24b1cc20> triggered tf.function retracing. Tracing is expensive and the excessive number of tracings could be due to (1) creating @tf.function repeatedly in a loop, (2) passing tensors with different shapes, (3) passing Python objects instead of tensors. For (1), please define your @tf.function outside of the loop. For (2), @tf.function has experimental_relax_shapes=True option that relaxes argument shapes that can avoid unnecessary retracing. For (3), please refer to https://www.tensorflow.org/guide/function#controlling_retracing and https://www.tensorflow.org/api_docs/python/tf/function for  more details.\n"
          ],
          "name": "stdout"
        }
      ]
    },
    {
      "cell_type": "code",
      "metadata": {
        "colab": {
          "base_uri": "https://localhost:8080/"
        },
        "id": "XP5yXAJR4FIc",
        "outputId": "dc3dd6ad-732f-4b01-9585-7db29ce3f6c2"
      },
      "source": [
        "from sklearn.metrics import classification_report,confusion_matrix\n",
        "print(classification_report(y_test_class,y_pred_class))\n",
        "print(confusion_matrix(y_test_class,y_pred_class))\n",
        "cm=confusion_matrix(y_test_class,y_pred_class)"
      ],
      "execution_count": 161,
      "outputs": [
        {
          "output_type": "stream",
          "text": [
            "              precision    recall  f1-score   support\n",
            "\n",
            "           0       1.00      1.00      1.00        12\n",
            "           1       1.00      0.20      0.33        10\n",
            "           2       0.50      1.00      0.67         8\n",
            "\n",
            "    accuracy                           0.73        30\n",
            "   macro avg       0.83      0.73      0.67        30\n",
            "weighted avg       0.87      0.73      0.69        30\n",
            "\n",
            "[[12  0  0]\n",
            " [ 0  2  8]\n",
            " [ 0  0  8]]\n"
          ],
          "name": "stdout"
        }
      ]
    },
    {
      "cell_type": "code",
      "metadata": {
        "colab": {
          "base_uri": "https://localhost:8080/"
        },
        "id": "TtZDzPV_AqtA",
        "outputId": "4c6f29fe-6181-4f77-8964-97242433cbb4"
      },
      "source": [
        "from sklearn.metrics import accuracy_score\n",
        "accuracy_score(y_test_class,y_pred_class)"
      ],
      "execution_count": 162,
      "outputs": [
        {
          "output_type": "execute_result",
          "data": {
            "text/plain": [
              "0.7333333333333333"
            ]
          },
          "metadata": {
            "tags": []
          },
          "execution_count": 162
        }
      ]
    },
    {
      "cell_type": "code",
      "metadata": {
        "id": "lrfLtHsnI16u",
        "colab": {
          "base_uri": "https://localhost:8080/"
        },
        "outputId": "f9682aed-f074-453b-8b1c-5d736b2be640"
      },
      "source": [
        "\n",
        "# Get the accuracy of test data set\n",
        "#\n",
        "test_loss, test_acc = model.evaluate(X_test, y_test)\n",
        "#\n",
        "# Print the test accuracy\n",
        "#\n",
        "print('Test Accuracy: ', test_acc, '\\nTest Loss: ', test_loss)"
      ],
      "execution_count": 163,
      "outputs": [
        {
          "output_type": "stream",
          "text": [
            "WARNING:tensorflow:6 out of the last 10 calls to <function Model.make_test_function.<locals>.test_function at 0x7f8f26580170> triggered tf.function retracing. Tracing is expensive and the excessive number of tracings could be due to (1) creating @tf.function repeatedly in a loop, (2) passing tensors with different shapes, (3) passing Python objects instead of tensors. For (1), please define your @tf.function outside of the loop. For (2), @tf.function has experimental_relax_shapes=True option that relaxes argument shapes that can avoid unnecessary retracing. For (3), please refer to https://www.tensorflow.org/guide/function#controlling_retracing and https://www.tensorflow.org/api_docs/python/tf/function for  more details.\n",
            "1/1 [==============================] - 0s 120ms/step - loss: 0.5083 - accuracy: 0.7333\n",
            "Test Accuracy:  0.7333333492279053 \n",
            "Test Loss:  0.5082598924636841\n"
          ],
          "name": "stdout"
        }
      ]
    },
    {
      "cell_type": "code",
      "metadata": {
        "colab": {
          "base_uri": "https://localhost:8080/"
        },
        "id": "qtGRsqE7HPH0",
        "outputId": "42326508-71c5-46a1-ba8d-f7836e3dcca2"
      },
      "source": [
        "\n",
        "history_dict = hist.history\n",
        "print(history_dict.keys())\n"
      ],
      "execution_count": 170,
      "outputs": [
        {
          "output_type": "stream",
          "text": [
            "dict_keys(['loss', 'accuracy'])\n"
          ],
          "name": "stdout"
        }
      ]
    },
    {
      "cell_type": "code",
      "metadata": {
        "id": "AO60MM8u8rYu"
      },
      "source": [
        ""
      ],
      "execution_count": null,
      "outputs": []
    }
  ]
}